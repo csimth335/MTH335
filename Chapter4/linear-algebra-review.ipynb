{
  "cells": [
     {"cell_type":"markdown","source":"<h1>linear algebra review</h1>","metadata":{"internals":{"slide_type":"subslide","slide_helper":"subslide_end"},"slideshow":{"slide_type":"slide"},"slide_helper":"slide_end"}},
{"cell_type":"markdown","source":"<h2>systems of equations and matrices</h2>","metadata":{"internals":{"slide_type":"subslide","slide_helper":"subslide_end"},"slideshow":{"slide_type":"slide"},"slide_helper":"slide_end"}},
{"cell_type":"markdown","source":"<p>In Chapter 3 our problem was methods to solve &#36;f&#40;x&#41; &#61; 0&#36; where &#36;f:R \\rightarrow R&#36;. Of course, this also handles problems of the type &#36;f&#40;x&#41; &#61; g&#40;x&#41;&#36; and &#36;f&#40;x&#41; &#61; b&#36;.</p>","metadata":{}},
{"cell_type":"markdown","source":"<p>In Chapter 4 we begin with <strong>linear</strong> systems of equations:</p>","metadata":{}},
{"cell_type":"markdown","source":"&#36;~\n\\begin&#123;align&#125;\na_&#123;11&#125; x_1 &#43; a_&#123;12&#125;x_2 &#43; \\cdots a_&#123;1n&#125; x_n &amp;&#61; b_1\\\\\na_&#123;21&#125; x_1 &#43; a_&#123;22&#125;x_2 &#43; \\cdots a_&#123;2n&#125; x_n &amp;&#61; b_2\\\\\n&amp;\\vdots\\\\\na_&#123;m1&#125; x_1 &#43; a_&#123;m2&#125;x_2 &#43; \\cdots a_&#123;mn&#125; x_n &amp;&#61; b_m\n\\end&#123;align&#125;\n~&#36;","metadata":{}},
{"cell_type":"markdown","source":"<p>A solution is a set of values &#36;x_1, x_2, \\dots, x_n&#36; so that each equation is true simultaneously.</p>","metadata":{}},
{"cell_type":"markdown","source":"<h3>Matrix</h3>","metadata":{"internals":{"slide_type":"subslide"},"slideshow":{"slide_type":"subslide"},"slide_helper":"slide_end"}},
{"cell_type":"markdown","source":"<p>We see three sets of numbers: the &#36;a&#36;s, the &#36;b&#36;s and the &#36;x&#36;s. We represent these as matrices:</p>","metadata":{}},
{"cell_type":"markdown","source":"&#36;~\nA &#61; \\left&#40;\n\\begin&#123;array&#125;&#123;cccc&#125;\na_&#123;11&#125; &amp; a_&#123;12&#125; &amp; \\cdots &amp; a_&#123;1n&#125;\\\\\na_&#123;21&#125; &amp; a_&#123;22&#125; &amp; \\cdots &amp; a_&#123;2n&#125;\\\\\n &amp; \\vdots &amp;  &amp; &#125;\\\\\na_&#123;m1&#125; &amp; a_&#123;m2&#125; &amp; \\cdots &amp; a_&#123;mn&#125;\\\\\n\\end&#123;array&#125;\n\\right&#41;\n~&#36;","metadata":{}},
{"cell_type":"markdown","source":"&#36;~\nx &#61; \\left&#40;\n\\begin&#123;array&#125;&#123;c&#125;\nx_1\\\\\nx_2\n\\vdots\\\\\nx_n\n\\end&#123;array&#125;\n\\right&#41;\n~&#36;","metadata":{}},
{"cell_type":"markdown","source":"&#36;~\nb &#61; \\left&#40;\n\\begin&#123;array&#125;&#123;c&#125;\nb_1\\\\\nb_2\n\\vdots\\\\\nb_n\n\\end&#123;array&#125;\n\\right&#41;\n~&#36;","metadata":{}}
    ],
 "metadata": {
  "language_info": {
   "name": "julia",
   "version": "0.4"
  },
 "kernelspec": {
   "display_name": "Julia 0.4.0",
   "language": "julia",
   "name": "julia-0.4"
  }

 },
 "nbformat": 4,
 "nbformat_minor": 0

}
