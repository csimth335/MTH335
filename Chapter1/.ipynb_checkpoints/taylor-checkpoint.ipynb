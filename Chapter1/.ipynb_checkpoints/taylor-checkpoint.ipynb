{
 "cells": [
  {
   "cell_type": "markdown",
   "metadata": {
    "internals": {
     "slide_helper": "subslide_end",
     "slide_type": "subslide"
    },
    "slide_helper": "slide_end",
    "slideshow": {
     "slide_type": "slide"
    }
   },
   "source": [
    "<h1>Mathematical preliminaries</h1>"
   ]
  },
  {
   "cell_type": "markdown",
   "metadata": {
    "internals": {
     "slide_helper": "subslide_end",
     "slide_type": "subslide"
    },
    "slide_helper": "slide_end",
    "slideshow": {
     "slide_type": "slide"
    }
   },
   "source": [
    "<h2>A limit of a function</h2>"
   ]
  },
  {
   "cell_type": "markdown",
   "metadata": {},
   "source": [
    "<blockquote>\n",
    "<p>The expression $\\lim_{x \\rightarrow c}f(x) = L$ means: for every $\\epsilon$ there exists a $\\delta$ such that <em>if</em> $0 < |x-c| < \\delta$ it <em>must</em> be that $|f(x) - L| < \\epsilon$.</p>\n",
    "</blockquote>"
   ]
  },
  {
   "cell_type": "markdown",
   "metadata": {
    "internals": {
     "slide_helper": "subslide_end",
     "slide_type": "subslide"
    },
    "slide_helper": "slide_end",
    "slideshow": {
     "slide_type": "slide"
    }
   },
   "source": [
    "<h2>Continuous</h2>"
   ]
  },
  {
   "cell_type": "markdown",
   "metadata": {},
   "source": [
    "<p>A function is continuous at $x=c$ if $\\lim_{x\\rightarrow c}f(x) = f(c)$.</p>"
   ]
  },
  {
   "cell_type": "markdown",
   "metadata": {},
   "source": [
    "<p>This says three things:</p>"
   ]
  },
  {
   "cell_type": "markdown",
   "metadata": {},
   "source": [
    "<ul>\n",
    "<li><p>The function $f$ is defined at $c$</p>\n",
    "</li>\n",
    "<li><p>The function $f$ has a limit at $c$.</p>\n",
    "</li>\n",
    "<li><p>the two are the same value</p>\n",
    "</li>\n",
    "</ul>"
   ]
  },
  {
   "cell_type": "markdown",
   "metadata": {},
   "source": [
    "<p>Basically this says $|f(x) - f(c)| \\rightarrow 0$ as $x \\rightarrow c$. </p>"
   ]
  },
  {
   "cell_type": "markdown",
   "metadata": {
    "internals": {
     "slide_type": "subslide"
    },
    "slide_helper": "slide_end",
    "slideshow": {
     "slide_type": "subslide"
    }
   },
   "source": [
    "<h3></h3>"
   ]
  },
  {
   "cell_type": "markdown",
   "metadata": {},
   "source": [
    "<p>A function is continuous on $I = (a,b)$ if it is at each $c$ in $I$.</p>"
   ]
  },
  {
   "cell_type": "markdown",
   "metadata": {},
   "source": [
    "<p>A function is continuous in $I=[a,b]$ if ....</p>"
   ]
  },
  {
   "cell_type": "markdown",
   "metadata": {
    "internals": {
     "slide_helper": "subslide_end",
     "slide_type": "subslide"
    },
    "slide_helper": "slide_end",
    "slideshow": {
     "slide_type": "slide"
    }
   },
   "source": [
    "<h2>Derivative at a point</h2>"
   ]
  },
  {
   "cell_type": "markdown",
   "metadata": {},
   "source": [
    "<p>The derivative of $f$ at $c$ is the limit (when it exists):</p>"
   ]
  },
  {
   "cell_type": "markdown",
   "metadata": {},
   "source": [
    "\n",
    "$$\n",
    "\\lim_{h \\rightarrow 0} \\frac{f(c+h) - f(c)}{h}.\n",
    "$$\n"
   ]
  },
  {
   "cell_type": "markdown",
   "metadata": {},
   "source": [
    "<p>(There are other ways to write this.)</p>"
   ]
  },
  {
   "cell_type": "markdown",
   "metadata": {},
   "source": [
    "<p>The function is differentiable on $I=(a,b)$ provided it has a derivative at each $c$ in $I$.</p>"
   ]
  },
  {
   "cell_type": "markdown",
   "metadata": {},
   "source": [
    "<p>A function which is differentiable on $I=(a,b)$ it is continuous on $I$. (Why???)</p>"
   ]
  },
  {
   "cell_type": "markdown",
   "metadata": {
    "internals": {
     "slide_type": "subslide"
    },
    "slide_helper": "slide_end",
    "slideshow": {
     "slide_type": "subslide"
    }
   },
   "source": [
    "<h3>Example</h3>"
   ]
  },
  {
   "cell_type": "markdown",
   "metadata": {},
   "source": [
    "<p>We have many rules for finding derivatives, the above limit is the definition.</p>"
   ]
  },
  {
   "cell_type": "markdown",
   "metadata": {
    "internals": {
     "slide_helper": "subslide_end",
     "slide_type": "subslide"
    },
    "slide_helper": "slide_end",
    "slideshow": {
     "slide_type": "slide"
    }
   },
   "source": [
    "<h2>Higher order derivatives</h2>"
   ]
  },
  {
   "cell_type": "markdown",
   "metadata": {},
   "source": [
    "<p>The derivative of a function returns a function through this definition:</p>"
   ]
  },
  {
   "cell_type": "markdown",
   "metadata": {},
   "source": [
    "\n",
    "$$\n",
    "f'(x) = \\lim_{h \\rightarrow 0} \\frac{f(x+h) - f(x)}{h}.\n",
    "$$\n"
   ]
  },
  {
   "cell_type": "markdown",
   "metadata": {},
   "source": [
    "<p>Since $f'(x)$ is also a function, it too may have a derivative. This would be the second derivative of $f$, writing $f''$.</p>"
   ]
  },
  {
   "cell_type": "markdown",
   "metadata": {},
   "source": [
    "<p>Of course, we can repeat to talk about the $k$th derivative, $f^{(k)}$.</p>"
   ]
  },
  {
   "cell_type": "markdown",
   "metadata": {
    "internals": {
     "slide_helper": "subslide_end",
     "slide_type": "subslide"
    },
    "slide_helper": "slide_end",
    "slideshow": {
     "slide_type": "slide"
    }
   },
   "source": [
    "<h2>The space of functions C, C^1, C^2, ...</h2>"
   ]
  },
  {
   "cell_type": "markdown",
   "metadata": {},
   "source": [
    "<p>A differentiable function is continuous, but not vice versa. There are some common function spaces:</p>"
   ]
  },
  {
   "cell_type": "markdown",
   "metadata": {},
   "source": [
    "<ul>\n",
    "<li><p>The space $C([a,b])$: the set of all continuous functions on $[a,b]$</p>\n",
    "</li>\n",
    "<li><p>The space $C^1([a,b])$: the set of all functions on $[a,b]$ that have a <em>continuous</em> derivative on $[a,b]$.</p>\n",
    "</li>\n",
    "<li><p>The space $C^k([a,b])$: the set of all functions on $[a,b]$ that have a <em>continuous</em> $k$-th derivative on $[a,b]$.</p>\n",
    "</li>\n",
    "</ul>"
   ]
  },
  {
   "cell_type": "markdown",
   "metadata": {
    "internals": {
     "slide_type": "subslide"
    },
    "slide_helper": "slide_end",
    "slideshow": {
     "slide_type": "subslide"
    }
   },
   "source": [
    "<h3>Example</h3>"
   ]
  },
  {
   "cell_type": "markdown",
   "metadata": {},
   "source": [
    "<p>The <em>first</em> <a href=\"https://en.wikipedia.org/wiki/Fundamental_theorem_of_calculus\">fundamental</a> theorem of calculus: If $f(x)$ is continuous on $I=[a,b]$ and $F(x) = \\int_a^x f(u) du$. Then:</p>"
   ]
  },
  {
   "cell_type": "markdown",
   "metadata": {},
   "source": [
    "<ul>\n",
    "<li><p>the function $F(x)$ is continuous on $[a,b]$,</p>\n",
    "</li>\n",
    "<li><p>the function $F(x)$ is differentiable in $(a,b)$, and</p>\n",
    "</li>\n",
    "<li><p>the function $F'(x) = f(x)$, so is continuous.</p>\n",
    "</li>\n",
    "</ul>"
   ]
  },
  {
   "cell_type": "markdown",
   "metadata": {},
   "source": [
    "<p>So $F$ is in $C^1$ (of what interval).</p>"
   ]
  },
  {
   "cell_type": "markdown",
   "metadata": {
    "internals": {
     "slide_helper": "subslide_end",
     "slide_type": "subslide"
    },
    "slide_helper": "slide_end",
    "slideshow": {
     "slide_type": "slide"
    }
   },
   "source": [
    "<h2>Taylor's theorem</h2>"
   ]
  },
  {
   "cell_type": "markdown",
   "metadata": {},
   "source": [
    "<p>Suppose $f(x)$ is in $C^n([a,b]$ <em>and</em> suppose that $f^{(n+1)}$ exists in $(a,b)$. (Why is it not $C^{n+1}$?) For $c$ and $x$ in $I$, we set</p>"
   ]
  },
  {
   "cell_type": "markdown",
   "metadata": {},
   "source": [
    "\n",
    "$$\n",
    "T_n(x) = f(c) + f'(c) (x-c) + \\frac{f''(c)}{2!}(x-c)^2 + \\cdots + \\frac{f^{n}(c)}{n!}(x-c)^n.\n",
    "$$\n"
   ]
  },
  {
   "cell_type": "markdown",
   "metadata": {},
   "source": [
    "<p>($T_n$ is the Taylor polynomial of order $n$ about $c$. When $c=0$ it has a different name.) Then $T_n$ and $f$ are close (typically). How close?</p>"
   ]
  },
  {
   "cell_type": "markdown",
   "metadata": {
    "internals": {
     "slide_type": "subslide"
    },
    "slide_helper": "slide_end",
    "slideshow": {
     "slide_type": "subslide"
    }
   },
   "source": [
    "<h3>Taylor's theorem</h3>"
   ]
  },
  {
   "cell_type": "markdown",
   "metadata": {},
   "source": [
    "<p>Set $E_n(x) = f(x) - T_n(x)$. Then there exists $\\xi$ between $c$ and $x$ with</p>"
   ]
  },
  {
   "cell_type": "markdown",
   "metadata": {},
   "source": [
    "\n",
    "$$\n",
    "E_n(x) = \\frac{f^{n+1}(\\xi)}{(n+1)!}(x-c)^{n+1}.\n",
    "$$\n"
   ]
  },
  {
   "cell_type": "markdown",
   "metadata": {
    "internals": {
     "slide_type": "subslide"
    },
    "slide_helper": "slide_end",
    "slideshow": {
     "slide_type": "subslide"
    }
   },
   "source": [
    "<h3>Examples</h3>"
   ]
  },
  {
   "cell_type": "markdown",
   "metadata": {},
   "source": [
    "<p>Finding Taylor series by hand is possible. Here we let the computer do some </p>"
   ]
  },
  {
   "cell_type": "code",
   "execution_count": null,
   "metadata": {},
   "outputs": [],
   "source": [
    "using SymPy"
   ]
  },
  {
   "cell_type": "markdown",
   "metadata": {
    "internals": {
     "slide_type": "subslide"
    },
    "slide_helper": "slide_end",
    "slideshow": {
     "slide_type": "subslide"
    }
   },
   "source": [
    "<h3>Examples</h3>"
   ]
  },
  {
   "cell_type": "code",
   "execution_count": 3,
   "metadata": {},
   "outputs": [
    {
     "data": {
      "text/latex": [
       "$$x - \\frac{x^{2}}{2} + \\frac{x^{3}}{3} - \\frac{x^{4}}{4} + \\mathcal{O}\\left(x^{5}\\right)$$"
      ],
      "text/plain": [
       "     2    3    4        \n",
       "    x    x    x     / 5\\\n",
       "x - -- + -- - -- + O\\x /\n",
       "    2    3    4         "
      ]
     },
     "execution_count": 3,
     "metadata": {},
     "output_type": "execute_result"
    }
   ],
   "source": [
    "x = symbols(\"x\")\n",
    "\n",
    "f(x) = log(1 + x)\n",
    "c, n = 0, 5\n",
    "\n",
    "series(f(x), x, c, n)"
   ]
  },
  {
   "cell_type": "markdown",
   "metadata": {},
   "source": [
    "<p>Or for $1/(1+x)$.</p>"
   ]
  },
  {
   "cell_type": "code",
   "execution_count": 4,
   "metadata": {},
   "outputs": [
    {
     "data": {
      "text/latex": [
       "$$1 - x + x^{2} - x^{3} + x^{4} - x^{5} + \\mathcal{O}\\left(x^{6}\\right)$$"
      ],
      "text/plain": [
       "         2    3    4    5    / 6\\\n",
       "1 - x + x  - x  + x  - x  + O\\x /"
      ]
     },
     "execution_count": 4,
     "metadata": {},
     "output_type": "execute_result"
    }
   ],
   "source": [
    "f(x) = 1 / (1 + x)\n",
    "c,n=0, 6\n",
    "\n",
    "series(f(x), x, c, n)"
   ]
  },
  {
   "cell_type": "markdown",
   "metadata": {
    "internals": {
     "slide_type": "subslide"
    },
    "slide_helper": "slide_end",
    "slideshow": {
     "slide_type": "subslide"
    }
   },
   "source": [
    "<h3>Using the error</h3>"
   ]
  },
  {
   "cell_type": "markdown",
   "metadata": {},
   "source": [
    "<p>For $f(x) = 1/(1+x)$ we can <em>approximate</em> by a Taylor polynomial with $c=0$. If $0\\leq x \\leq 1/2$, how big must $n$ be so that the error is no more than $10^{-8}$?</p>"
   ]
  },
  {
   "cell_type": "markdown",
   "metadata": {},
   "source": [
    "<p>We have $f^{(k)}(x) = k!/(x+1)^{k+1}$, so the error term</p>"
   ]
  },
  {
   "cell_type": "markdown",
   "metadata": {},
   "source": [
    "\n",
    "$$\n",
    "\\begin{align}\n",
    "| E_n(\\xi) | &= |f^{(n+1)}(\\xi) / (n+1)! \\cdot x^{n+1} |\\\\\n",
    "              &\\leq \\frac{1}{(1 + \\xi)^{n+1}} \\cdot x^{n+1} \\\\\n",
    "              &\\leq 1 \\cdot (1/2)^{n+1}.\n",
    "\\end{align}\t\t\t  \n",
    "$$\n"
   ]
  },
  {
   "cell_type": "markdown",
   "metadata": {},
   "source": [
    "<p>We have then $(n+1)\\log(1/2) = 8 \\log(1/10)$, or $n\\approx 26$.</p>"
   ]
  },
  {
   "cell_type": "markdown",
   "metadata": {},
   "source": [
    "<p>We can \"confirm\" this with:</p>"
   ]
  },
  {
   "cell_type": "code",
   "execution_count": null,
   "metadata": {},
   "outputs": [
    {
     "data": {
      "text/latex": [
       "$$3.33066907387547 \\cdot 10^{-16}$$"
      ]
     },
     "execution_count": null,
     "metadata": {},
     "output_type": "execute_result"
    }
   ],
   "source": [
    "f(x) = 1/(1+x)\n",
    "c,n = 0, 26\n",
    "T = series(f(x),x,c,n) |> removeO\n",
    "g(x) = T(x) - f(x)\n",
    "maximum(g.(linspace(0, 1/2, 100)))"
   ]
  },
  {
   "cell_type": "markdown",
   "metadata": {
    "internals": {
     "slide_type": "subslide"
    },
    "slide_helper": "slide_end",
    "slideshow": {
     "slide_type": "subslide"
    }
   },
   "source": [
    "<h3>Manipulations</h3>"
   ]
  },
  {
   "cell_type": "markdown",
   "metadata": {},
   "source": [
    "<p>In the HW you are asked to show $(f(x+h) - f(x-h))/(2h)$ converges to $f'(x)$ – when the derivative exists. If we <em>assume</em> that $f$ is $C^2$, then Taylor's theorem has:</p>"
   ]
  },
  {
   "cell_type": "markdown",
   "metadata": {},
   "source": [
    "\n",
    "$$\n",
    "\\begin{align}\n",
    "f(x + h) &= f(x) + f'(x) h + f''(\\xi)/2 \\cdot h^2  \\\\\n",
    "f(x - h) &= f(x) - f'(x) h + f''(\\gamma)/2 \\cdot h^2\n",
    "\\end{align}\n",
    "$$\n"
   ]
  },
  {
   "cell_type": "markdown",
   "metadata": {},
   "source": [
    "<p>So, subtracting and dividing by $h$ gives:</p>"
   ]
  },
  {
   "cell_type": "markdown",
   "metadata": {},
   "source": [
    "\n",
    "$$\n",
    "\\begin{align}\n",
    "(f(x+h) - f(x-h))/(2h) &= f'(x) + (f''(\\xi) -f''(\\gamma))/2 \\cdot h\\\\\n",
    "&\\rightarrow f'(x)\n",
    "\\end{align}\n",
    "$$\n"
   ]
  },
  {
   "cell_type": "markdown",
   "metadata": {},
   "source": [
    "<p>(How do we know $f''(\\xi) - f''(\\gamma)$ is bounded when all we know is $x < \\xi,\\gamma < x +h$?)</p>"
   ]
  },
  {
   "cell_type": "markdown",
   "metadata": {
    "internals": {
     "slide_helper": "subslide_end",
     "slide_type": "subslide"
    },
    "slide_helper": "slide_end",
    "slideshow": {
     "slide_type": "slide"
    }
   },
   "source": [
    "<h2>Proving Taylor's theorem</h2>"
   ]
  },
  {
   "cell_type": "markdown",
   "metadata": {},
   "source": [
    "<p>Rolle's <a href=\"http://tinyurl.com/nkus4e7\">Theorem</a> is a humble little observation – a \"nice\" function with a relative maximum or minimum must have a flat tangent line. (\"Nice\" rules out $|x|$ type functions). One formulation is:</p>"
   ]
  },
  {
   "cell_type": "markdown",
   "metadata": {},
   "source": [
    "<blockquote>\n",
    "<p>if $f(x)$ is continuous on $I=[a,b]$ and differentiable on $(a,b)$. (not quite $C^1$, but $C^1$ functions work), <strong>and</strong> $f(a)=f(b)$, then there exists $\\xi$ in $(a,b)$ $f'(\\xi) = 0$.</p>\n",
    "</blockquote>"
   ]
  },
  {
   "cell_type": "markdown",
   "metadata": {
    "internals": {
     "slide_type": "subslide"
    },
    "slide_helper": "slide_end",
    "slideshow": {
     "slide_type": "subslide"
    }
   },
   "source": [
    "<h3>Cauchy Mean Value Theorem</h3>"
   ]
  },
  {
   "cell_type": "markdown",
   "metadata": {},
   "source": [
    "<p>Rolle's Theorem will imply the Cauchy Mean Value <a href=\"http://tinyurl.com/ppt9kd8\">Theorem</a>. Suppose $F$ and $G$ are continuous on $I$ and differentiable on its interior, then there exists $\\xi$ in $(a,b)$ with $(F(b)-F(a)) \\cdot G'(\\xi) = (G(b) - G(a)) \\cdot F'(\\xi)$.</p>"
   ]
  },
  {
   "cell_type": "markdown",
   "metadata": {
    "internals": {
     "slide_type": "subslide"
    },
    "slide_helper": "slide_end",
    "slideshow": {
     "slide_type": "subslide"
    }
   },
   "source": [
    "<h3>Visualize</h3>"
   ]
  },
  {
   "cell_type": "markdown",
   "metadata": {},
   "source": [
    "<p>Let $F(x) = \\sin(x)$ and $G(x) = \\cos(3x)$ and let $a,b=0,7\\pi/8$. Then we make a parametric plot:</p>"
   ]
  },
  {
   "cell_type": "code",
   "execution_count": null,
   "metadata": {},
   "outputs": [
    {
     "data": {
      "image/png": "[encoded data removed]",
      "text/plain": [
       "Plot(...)"
      ]
     },
     "execution_count": null,
     "metadata": {
      "image/png": {
       "height": 480,
       "width": 600
      }
     },
     "output_type": "execute_result"
    }
   ],
   "source": [
    "F(x) = sin(x); G(x) = cos(3x)\n",
    "a, b = 0, 7pi/8\n",
    "using Plots\n",
    "plot(F,G, a, b)"
   ]
  },
  {
   "cell_type": "markdown",
   "metadata": {
    "internals": {
     "slide_type": "subslide"
    },
    "slide_helper": "slide_end",
    "slideshow": {
     "slide_type": "subslide"
    }
   },
   "source": [
    "<h3>a solution</h3>"
   ]
  },
  {
   "cell_type": "markdown",
   "metadata": {},
   "source": [
    "<p>For fun, a solution is found with:</p>"
   ]
  },
  {
   "cell_type": "code",
   "execution_count": null,
   "metadata": {},
   "outputs": [
    {
     "data": {
      "text/latex": [
       "$$1.943192839096630075613186354699083040750140567010036512362239577383263214022$$"
      ]
     },
     "execution_count": null,
     "metadata": {},
     "output_type": "execute_result"
    }
   ],
   "source": [
    "ψ = symbols(\"psi\")\n",
    "Fp = diff(F(x),x)(x => ψ)\n",
    "Gp = diff(G(x),x)(x => ψ)\n",
    "xi = nsolve((F(b)-F(a))*Gp - (G(b)-G(a))*Fp, pi/2)"
   ]
  },
  {
   "cell_type": "markdown",
   "metadata": {},
   "source": [
    "<p>And to visualize, we can do:</p>"
   ]
  },
  {
   "cell_type": "code",
   "execution_count": null,
   "metadata": {},
   "outputs": [
    {
     "data": {
      "image/png": "[encoded data removed]",
      "text/plain": [
       "Plot(...)"
      ]
     },
     "execution_count": null,
     "metadata": {
      "image/png": {
       "height": 480,
       "width": 600
      }
     },
     "output_type": "execute_result"
    }
   ],
   "source": [
    "plot(F,G, a, b, legend=false)\n",
    "Fab = collect(F.((a,b)))\n",
    "Gab = collect(G.((a,b)))\n",
    "scatter!(Fab, Gab)\n",
    "plot!(Fab, Gab)\n",
    "scatter!([N(F(xi))], [N(G(xi))]) \n",
    "plot!(x -> N(G(xi) + Gp(xi)/Fp(xi) * (x-F(xi))), 0.75, 1)"
   ]
  },
  {
   "cell_type": "markdown",
   "metadata": {
    "internals": {
     "slide_type": "subslide"
    },
    "slide_helper": "slide_end",
    "slideshow": {
     "slide_type": "subslide"
    }
   },
   "source": [
    "<h3>Apply to Taylor's theorem.</h3>"
   ]
  },
  {
   "cell_type": "markdown",
   "metadata": {},
   "source": [
    "<p>(From <a href=\"http://tinyurl.com/opmyyog\">wikipedia</a> Fix $x$ and define:</p>"
   ]
  },
  {
   "cell_type": "markdown",
   "metadata": {},
   "source": [
    "\n",
    "$$\n",
    "\\begin{align}\n",
    "F(t) &= f(t) + f'(t)(x-t) + f''(t)/2! \\cdot (x-t)^2 + \\cdots + f^{n}(t)/n!\\cdot  (x-t)^n,\\\\\n",
    "G(t) &=  (x-t)^{n+1}.\n",
    "\\end{align}\n",
    "$$\n"
   ]
  },
  {
   "cell_type": "markdown",
   "metadata": {},
   "source": [
    "<p>Then $F(x) = f(x), G(x) = 0$, and:</p>"
   ]
  },
  {
   "cell_type": "markdown",
   "metadata": {},
   "source": [
    "\n",
    "$$\n",
    "\\begin{align}\n",
    "F'(t) &= f'(t) +f''(t) \\cdot (x-t) + f'''(t)/2! \\cdot (x-t)^2 + \\cdots + f^{n+1}(t)/n! \\cdot (x-t)^n +\\\\\n",
    "      & -f'(t) -f''(t)/2! \\cdot 2(x-t) - f'''(t)/3! \\cdot 3(x-t)^2 - \\cdots - f^n(t)/n! \\cdot  n (x-t)^{n-1}\\\\\n",
    "      &= 0 + 0 + \\cdots + 0 + f^{n+1}(t)/n! (x-t)^n\n",
    "\\end{align}\n",
    "$$\n"
   ]
  },
  {
   "cell_type": "markdown",
   "metadata": {},
   "source": [
    "<p>and</p>"
   ]
  },
  {
   "cell_type": "markdown",
   "metadata": {},
   "source": [
    "\n",
    "$$\n",
    "G'(t) = (n+1)(x-t)^n\n",
    "$$\n"
   ]
  },
  {
   "cell_type": "markdown",
   "metadata": {},
   "source": [
    "<p>Thus,</p>"
   ]
  },
  {
   "cell_type": "markdown",
   "metadata": {},
   "source": [
    "\n",
    "$$\n",
    "\\frac{F'(\\xi)}{G'(\\xi)} = \\frac{f^{n+1}(\\xi)/n! (x-\\xi)^n}{(n+1)(x-\\xi)^n} = \\frac{f^{n+1}(\\xi)}{(n+1)!}.\n",
    "$$\n"
   ]
  },
  {
   "cell_type": "markdown",
   "metadata": {},
   "source": [
    "<p>But, solving for $F(x)$, we have</p>"
   ]
  },
  {
   "cell_type": "markdown",
   "metadata": {},
   "source": [
    "\n",
    "$$\n",
    "F(x) - F(a) = \\frac{F'(\\xi)}{G'(\\xi)}(G(x) - G(a)) = \\frac{f^{n+1}(\\xi)}{(n+1)!}(x-a)^{n+1}\n",
    "$$\n"
   ]
  },
  {
   "cell_type": "markdown",
   "metadata": {},
   "source": [
    "<p>But $F(x) - F(a) = f(x) - \\sum_i^{n} \\frac{f^i(a)}{i!}(x-a)^u = E_n(x)$</p>"
   ]
  },
  {
   "cell_type": "markdown",
   "metadata": {},
   "source": [
    "<p>All told, the error term is as advertised</p>"
   ]
  },
  {
   "cell_type": "markdown",
   "metadata": {
    "internals": {
     "slide_helper": "subslide_end",
     "slide_type": "subslide"
    },
    "slide_helper": "slide_end",
    "slideshow": {
     "slide_type": "slide"
    }
   },
   "source": [
    "<h2>Big Oh little Oh ...</h2>"
   ]
  },
  {
   "cell_type": "markdown",
   "metadata": {},
   "source": [
    "<p>Returning to <code>series</code>, what is the last term in the expansion:</p>"
   ]
  },
  {
   "cell_type": "code",
   "execution_count": null,
   "metadata": {},
   "outputs": [
    {
     "data": {
      "text/latex": [
       "$$1 + x + \\frac{x^{2}}{2} - \\frac{x^{4}}{8} + \\mathcal{O}\\left(x^{5}\\right)$$"
      ]
     },
     "execution_count": null,
     "metadata": {},
     "output_type": "execute_result"
    }
   ],
   "source": [
    "series(exp(sin(x)), x, 0, 5)"
   ]
  },
  {
   "cell_type": "markdown",
   "metadata": {},
   "source": [
    "<p>There are notations that allow a <em>rough comparison</em> between two functions. We define <a href=\"https://en.wikipedia.org/wiki/Big_O_notation\">Big \"O\"</a>: (for some $M<\\infty$ there exists $x_0$ such that...)</p>"
   ]
  },
  {
   "cell_type": "markdown",
   "metadata": {},
   "source": [
    "\n",
    "$$\n",
    "f(x) = \\mathcal{O}(g(x)) \\text{ as } x \\rightarrow \\infty: |f(x)| \\leq M |g(x)| \\text{ if } x > x_0.\n",
    "$$\n"
   ]
  },
  {
   "cell_type": "markdown",
   "metadata": {},
   "source": [
    "<p>Both $f$ and $g$ can be big \"O\" of each other, in which case $f(x) \\approx M g(x)$ as $x$ gets big.</p>"
   ]
  },
  {
   "cell_type": "markdown",
   "metadata": {
    "internals": {
     "slide_type": "subslide"
    },
    "slide_helper": "slide_end",
    "slideshow": {
     "slide_type": "subslide"
    }
   },
   "source": [
    "<h3>Little \"o\"</h3>"
   ]
  },
  {
   "cell_type": "markdown",
   "metadata": {},
   "source": [
    "<p>And little \"o\" by (for every $\\epsilon > 0$ there exists $x_0$ such that...)</p>"
   ]
  },
  {
   "cell_type": "markdown",
   "metadata": {},
   "source": [
    "\n",
    "$$\n",
    "f(x) = \\mathcal{o}(g(x)) \\text{ as } x \\rightarrow \\infty: |f(x)| \\leq \\epsilon |g(x)| \\text{ if } x > x_0.\n",
    "$$\n"
   ]
  },
  {
   "cell_type": "markdown",
   "metadata": {},
   "source": [
    "<p>This says $f(x) \\approx g(x)h(x)$ where $h(x)$ goes to $0$ as $x$ gets big.</p>"
   ]
  },
  {
   "cell_type": "markdown",
   "metadata": {
    "internals": {
     "slide_type": "subslide"
    },
    "slide_helper": "slide_end",
    "slideshow": {
     "slide_type": "subslide"
    }
   },
   "source": [
    "<h3>Big Oh at other values than infinity</h3>"
   ]
  },
  {
   "cell_type": "markdown",
   "metadata": {},
   "source": [
    "<p>We can also define for values other than $x \\rightarrow \\infty$.</p>"
   ]
  },
  {
   "cell_type": "markdown",
   "metadata": {},
   "source": [
    "<p>In </p>"
   ]
  },
  {
   "cell_type": "code",
   "execution_count": null,
   "metadata": {},
   "outputs": [
    {
     "data": {
      "text/latex": [
       "$$1 + x + \\frac{x^{2}}{2} - \\frac{x^{4}}{8} + \\mathcal{O}\\left(x^{5}\\right)$$"
      ]
     },
     "execution_count": null,
     "metadata": {},
     "output_type": "execute_result"
    }
   ],
   "source": [
    "series(exp(sin(x)), x, 0, 5)"
   ]
  },
  {
   "cell_type": "markdown",
   "metadata": {},
   "source": [
    "<p>The $\\mathcal{O}(x^5)$ is as $x \\rightarrow c (=0)$. Is it right? we have</p>"
   ]
  },
  {
   "cell_type": "code",
   "execution_count": null,
   "metadata": {},
   "outputs": [
    {
     "data": {
      "text/latex": [
       "$$\\left(15 \\sin^{2}{\\left (x \\right )} - 10 \\sin{\\left (x \\right )} \\cos^{2}{\\left (x \\right )} + 15 \\sin{\\left (x \\right )} + \\cos^{4}{\\left (x \\right )} - 10 \\cos^{2}{\\left (x \\right )} + 1\\right) e^{\\sin{\\left (x \\right )}} \\cos{\\left (x \\right )}$$"
      ]
     },
     "execution_count": null,
     "metadata": {},
     "output_type": "execute_result"
    }
   ],
   "source": [
    "ex = diff(exp(sin(x)), x, 5)"
   ]
  },
  {
   "cell_type": "markdown",
   "metadata": {},
   "source": [
    "<p>A continuous function, so on <em>any</em> closed interval is bounded [Why?]. So... on $[0,x]$ the $|E_5(x)| \\leq M/5! \\cdot x^5$ or $\\mathcal{O}(x^5)$.</p>"
   ]
  },
  {
   "cell_type": "markdown",
   "metadata": {
    "internals": {
     "slide_type": "subslide"
    },
    "slide_helper": "slide_end",
    "slideshow": {
     "slide_type": "subslide"
    }
   },
   "source": [
    "<h3>Little o can sometimes be the correct answer:</h3>"
   ]
  },
  {
   "cell_type": "markdown",
   "metadata": {},
   "source": [
    "<p>We can see that <code>SymPy</code> is not as precise as possible with</p>"
   ]
  },
  {
   "cell_type": "code",
   "execution_count": null,
   "metadata": {},
   "outputs": [
    {
     "data": {
      "text/latex": [
       "$$1 + x + \\frac{x^{2}}{2} + \\mathcal{O}\\left(x^{3}\\right)$$"
      ]
     },
     "execution_count": null,
     "metadata": {},
     "output_type": "execute_result"
    }
   ],
   "source": [
    "series(exp(sin(x)), x, 0, 3)"
   ]
  },
  {
   "cell_type": "markdown",
   "metadata": {},
   "source": [
    "<p>As we could use $\\mathcal{o}(x^3)$ in this specific case. Why?</p>"
   ]
  },
  {
   "cell_type": "markdown",
   "metadata": {
    "internals": {
     "slide_type": "subslide"
    },
    "slide_helper": "slide_end",
    "slideshow": {
     "slide_type": "subslide"
    }
   },
   "source": [
    "<h3></h3>"
   ]
  },
  {
   "cell_type": "markdown",
   "metadata": {},
   "source": [
    "<p>The value of $T_3(x) = 1 + x + x^2/2$ (no $x^3$) term, so $|E_4(x)/x^3| \\leq M/4! \\cdot x \\rightarrow 0$.</p>"
   ]
  },
  {
   "cell_type": "markdown",
   "metadata": {
    "internals": {
     "slide_type": "subslide"
    },
    "slide_helper": "slide_end",
    "slideshow": {
     "slide_type": "subslide"
    }
   },
   "source": [
    "<h3>Seeing is believing?</h3>"
   ]
  },
  {
   "cell_type": "markdown",
   "metadata": {},
   "source": [
    "<p>We can see that the limit is $0$ with:</p>"
   ]
  },
  {
   "cell_type": "code",
   "execution_count": null,
   "metadata": {},
   "outputs": [
    {
     "data": {
      "text/latex": [
       "$$0$$"
      ]
     },
     "execution_count": null,
     "metadata": {},
     "output_type": "execute_result"
    }
   ],
   "source": [
    "f(x) = exp(sin(x))\n",
    "Err(x) = f(x) - removeO(series(f(x), x, 0, 3))\n",
    "limit(Err(x)/x^3, x, 0)"
   ]
  },
  {
   "cell_type": "markdown",
   "metadata": {
    "internals": {
     "slide_type": "subslide"
    },
    "slide_helper": "slide_end",
    "slideshow": {
     "slide_type": "subslide"
    }
   },
   "source": [
    "<h3>Big Oh algebra</h3>"
   ]
  },
  {
   "cell_type": "markdown",
   "metadata": {},
   "source": [
    "<p>Suppose $f_1$ and $f_2$ are $\\mathcal{O}(n)$ and $g_1$ and $g_2$ are $\\mathcal{O}(m)$ with $n < m$. What \"O\" is</p>"
   ]
  },
  {
   "cell_type": "markdown",
   "metadata": {},
   "source": [
    "<ul>\n",
    "<li>$f1 - f2$\n",
    "</li>\n",
    "<li>$f1 \\cdot f1$\n",
    "</li>\n",
    "<li>$f1 + g1$\n",
    "</li>\n",
    "<li>$f1 \\cdot g1$\n",
    "<p>.</p>\n",
    "</li>\n",
    "</ul>"
   ]
  },
  {
   "cell_type": "markdown",
   "metadata": {},
   "source": [
    "<p>Let's look at some examples:</p>"
   ]
  },
  {
   "cell_type": "code",
   "execution_count": null,
   "metadata": {},
   "outputs": [
    {
     "data": {
      "text/latex": [
       "$$1 - x + x^{2} - x^{3} + x^{4} + \\mathcal{O}\\left(x^{5}\\right)$$"
      ]
     },
     "execution_count": null,
     "metadata": {},
     "output_type": "execute_result"
    }
   ],
   "source": [
    "f4 = series(exp(x), x, 0, 4)\n",
    "g4 = series(log(1+x), x, 0, 4)\n",
    "f5 = series(sqrt(1 + x), x, 0, 5)\n",
    "g5 = series(1/(1+x), x, 0, 5)"
   ]
  },
  {
   "cell_type": "code",
   "execution_count": null,
   "metadata": {},
   "outputs": [
    {
     "data": {
      "text/latex": [
       "$$1 + x^{2} - \\frac{x^{3}}{6} + \\mathcal{O}\\left(x^{4}\\right)$$"
      ]
     },
     "execution_count": null,
     "metadata": {},
     "output_type": "execute_result"
    }
   ],
   "source": [
    "f4 - g4    # guess, what would be f4 - f4?"
   ]
  },
  {
   "cell_type": "code",
   "execution_count": null,
   "metadata": {},
   "outputs": [
    {
     "data": {
      "text/latex": [
       "$$\\left(1 - x + x^{2} - x^{3} + x^{4} + \\mathcal{O}\\left(x^{5}\\right)\\right) \\left(1 + \\frac{x}{2} - \\frac{x^{2}}{8} + \\frac{x^{3}}{16} - \\frac{5 x^{4}}{128} + \\mathcal{O}\\left(x^{5}\\right)\\right)$$"
      ]
     },
     "execution_count": null,
     "metadata": {},
     "output_type": "execute_result"
    }
   ],
   "source": [
    "f5 * g5"
   ]
  },
  {
   "cell_type": "code",
   "execution_count": null,
   "metadata": {},
   "outputs": [
    {
     "data": {
      "text/latex": [
       "$$2 + \\frac{3 x^{2}}{2} - \\frac{5 x^{3}}{6} + \\mathcal{O}\\left(x^{4}\\right)$$"
      ]
     },
     "execution_count": null,
     "metadata": {},
     "output_type": "execute_result"
    }
   ],
   "source": [
    "f4 + g5"
   ]
  },
  {
   "cell_type": "code",
   "execution_count": null,
   "metadata": {},
   "outputs": [
    {
     "data": {
      "text/latex": [
       "$$1 + \\frac{x^{2}}{2} - \\frac{x^{3}}{3} + \\mathcal{O}\\left(x^{4}\\right)$$"
      ]
     },
     "execution_count": null,
     "metadata": {},
     "output_type": "execute_result"
    }
   ],
   "source": [
    "f4 * g5 |> expand"
   ]
  },
  {
   "cell_type": "markdown",
   "metadata": {
    "internals": {
     "slide_helper": "subslide_end",
     "slide_type": "subslide"
    },
    "slide_helper": "slide_end",
    "slideshow": {
     "slide_type": "slide"
    }
   },
   "source": [
    "<h2>Sequences: limit</h2>"
   ]
  },
  {
   "cell_type": "markdown",
   "metadata": {},
   "source": [
    "<p>Many algorithms are iterative. An example is Newton's method, where a sequence of approximate answers is provided: $x_0, x_1, x_2, \\dots$ with the expectation that as $n$ gets bigger, the values get closer to the actual answer. (Which happens in most – but not all cases.)</p>"
   ]
  },
  {
   "cell_type": "markdown",
   "metadata": {},
   "source": [
    "<p>The formal definition of closer is in terms of a limit:</p>"
   ]
  },
  {
   "cell_type": "markdown",
   "metadata": {},
   "source": [
    "<blockquote>\n",
    "$\\lim_{n \\rightarrow \\infty} x_n = L$\n",
    "<p>means for any $\\epsilon > 0$ there exists an $M$ such that if $n > M$, then $|x_n - L| < \\epsilon$.</p>\n",
    "</blockquote>"
   ]
  },
  {
   "cell_type": "markdown",
   "metadata": {
    "internals": {
     "slide_type": "subslide"
    },
    "slide_helper": "slide_end",
    "slideshow": {
     "slide_type": "subslide"
    }
   },
   "source": [
    "<h3>Examples</h3>"
   ]
  },
  {
   "cell_type": "markdown",
   "metadata": {},
   "source": [
    "<p>Consider $x_n = (n+1)/n = 1 + 1/n$. It should be clear this converges to $1$. (What is $M$ for a given $\\epsilon$?)</p>"
   ]
  },
  {
   "cell_type": "markdown",
   "metadata": {},
   "source": [
    "<p>Less obvious, but well known, is the convergence of $x_n = (1 + 1/n)^n$. What does this converge to?</p>"
   ]
  },
  {
   "cell_type": "code",
   "execution_count": null,
   "metadata": {},
   "outputs": [
    {
     "data": {
      "text/plain": [
       "6×2 Array{Float64,2}:\n",
       "     10.0    2.59374\n",
       "    100.0    2.70481\n",
       "   1000.0    2.71692\n",
       "  10000.0    2.71815\n",
       " 100000.0    2.71827\n",
       "      1.0e6  2.71828"
      ]
     },
     "execution_count": null,
     "metadata": {},
     "output_type": "execute_result"
    }
   ],
   "source": [
    "ns = [10^i for i in 1:6]\n",
    "xns = [(1 + 1/n)^n for n in ns]\n",
    "[ns xns]"
   ]
  },
  {
   "cell_type": "markdown",
   "metadata": {},
   "source": [
    "<p>Define the sequence $x_{n+1} = x_n/2 + 1/x_n$ starting with $x_0 = 2$. This has terms:</p>"
   ]
  },
  {
   "cell_type": "code",
   "execution_count": null,
   "metadata": {},
   "outputs": [
    {
     "data": {
      "text/plain": [
       "6-element Array{Float64,1}:\n",
       " 2.0    \n",
       " 1.5    \n",
       " 1.41667\n",
       " 1.41422\n",
       " 1.41421\n",
       " 1.41421"
      ]
     },
     "execution_count": null,
     "metadata": {},
     "output_type": "execute_result"
    }
   ],
   "source": [
    "xs = [2.0]\n",
    "for i in 1:5\n",
    "  xn = xs[end]\n",
    "  push!(xs, xn/2 + 1/xn)\n",
    "end\n",
    "xs  "
   ]
  },
  {
   "cell_type": "markdown",
   "metadata": {
    "internals": {
     "slide_type": "subslide"
    },
    "slide_helper": "slide_end",
    "slideshow": {
     "slide_type": "subslide"
    }
   },
   "source": [
    "<h3>Rates of convergence</h3>"
   ]
  },
  {
   "cell_type": "markdown",
   "metadata": {},
   "source": [
    "<p>The difference in convergence between the last two examples is a lot! We can quantify how fast a sequence converges.</p>"
   ]
  },
  {
   "cell_type": "markdown",
   "metadata": {},
   "source": [
    "<ul>\n",
    "<li><p>convergence means $x_n - L \\rightarrow 0$</p>\n",
    "</li>\n",
    "<li><p>linear convergence: $|x_{n+1} - L| \\leq c |x_n - L|$. (This is like Big \"O\")</p>\n",
    "</li>\n",
    "<li><p>super-linear convergence  $|x_{n+1} - L| \\leq \\epsilon_n |x_n - L|$ where $\\epsilon_n \\rightarrow 0$. (This is like little \"o\".)</p>\n",
    "</li>\n",
    "<li><p>quadratic: $|x_{n+1} - L| \\leq c |x_n - L|^2$. (In general, <em>order</em> $\\alpha$ replaces $2$ with $\\alpha$.)</p>\n",
    "</li>\n",
    "</ul>"
   ]
  },
  {
   "cell_type": "markdown",
   "metadata": {
    "internals": {
     "slide_type": "subslide"
    },
    "slide_helper": "slide_end",
    "slideshow": {
     "slide_type": "subslide"
    }
   },
   "source": [
    "<h3>Empirical evidence if quadratic convergence</h3>"
   ]
  },
  {
   "cell_type": "markdown",
   "metadata": {},
   "source": [
    "<p>The sequence $x_{n+1} = x_n/2 + 1/x_n$ converges quite rapidly to $\\sqrt{2}$. Can we see quadratic convergence? To do so we need to work with more precision:</p>"
   ]
  },
  {
   "cell_type": "code",
   "execution_count": null,
   "metadata": {},
   "outputs": [
    {
     "data": {
      "text/plain": [
       "8-element Array{BigFloat,1}:\n",
       " 5.85786437626904951198311275790301921430328124623051926823320262009267521537898e-01 \n",
       " 8.578643762690495119831127579030192143032812462305192682332026200926752153789802e-02\n",
       " 2.453104293571617864977942456968588096994791289718593489986928675934188204576202e-03\n",
       " 2.123901414755119879903241282313587190869721091142509594771813189090165348662204e-06\n",
       " 1.594861824606854680436831546887746738795971408225281209321893373282554461870123e-12\n",
       " 8.992928321650453100503992493553216097606324633457668137499347571936627462501505e-25\n",
       " 2.85928384333395122532777168230583522433177744630519065794809400186552252353298e-49 \n",
       " 1.727233711018888925077270372560079914223200072887256277004740694033718360632485e-77"
      ]
     },
     "execution_count": null,
     "metadata": {},
     "output_type": "execute_result"
    }
   ],
   "source": [
    "xs = [big(2.0)]\n",
    "for i = 2:8\n",
    "  xn = xs[end]\n",
    "  push!(xs, xn/2 + 1/xn)\n",
    "end\n",
    "ds = xs - sqrt(big(2.0))"
   ]
  },
  {
   "cell_type": "markdown",
   "metadata": {
    "internals": {
     "slide_type": "subslide"
    },
    "slide_helper": "slide_end",
    "slideshow": {
     "slide_type": "subslide"
    }
   },
   "source": [
    "<h3></h3>"
   ]
  },
  {
   "cell_type": "markdown",
   "metadata": {},
   "source": [
    "<p>We take the ratio to see convergence</p>"
   ]
  },
  {
   "cell_type": "code",
   "execution_count": null,
   "metadata": {},
   "outputs": [
    {
     "data": {
      "text/plain": [
       "6-element Array{BigFloat,1}:\n",
       " 2.500000000000000000000000000000000000000000000000000000000000000000000000000086e-01\n",
       " 3.333333333333333333333333333333333333333333333333333333333333333333333333355456e-01\n",
       " 3.529411764705882352941176470588235294117647058823529411764705882352941184267507e-01\n",
       " 3.53552859618717504332755632582322357019064124783362218370883882149118828622213e-01 \n",
       " 3.535533905928750467442709170287313942783510573591627019891359222592692791126859e-01\n",
       " 3.535533905932737622004219562263030635646253224289310609967131977283375707371436e-01"
      ]
     },
     "execution_count": null,
     "metadata": {},
     "output_type": "execute_result"
    }
   ],
   "source": [
    "[ds[i+1]/ds[i]^2 for i in 1:6]"
   ]
  },
  {
   "cell_type": "markdown",
   "metadata": {},
   "source": [
    "<p>(Basically, $e_{n+1} \\approx 3.5355339 \\cdot e_n^2$.)</p>"
   ]
  },
  {
   "cell_type": "markdown",
   "metadata": {
    "internals": {
     "slide_type": "subslide"
    },
    "slide_helper": "slide_end",
    "slideshow": {
     "slide_type": "subslide"
    }
   },
   "source": [
    "<h3>Empirical evidence of <em>non</em> quadratic convergence</h3>"
   ]
  },
  {
   "cell_type": "markdown",
   "metadata": {},
   "source": [
    "<p>The secant method is like Newton's method, only it replaces $f'(x)$ with a secant line slope. We have</p>"
   ]
  },
  {
   "cell_type": "code",
   "execution_count": null,
   "metadata": {},
   "outputs": [
    {
     "data": {
      "text/plain": [
       "11-element Array{BigFloat,1}:\n",
       " 2.000000000000000000000000000000000000000000000000000000000000000000000000000000\n",
       " 1.500000000000000000000000000000000000000000000000000000000000000000000000000000\n",
       " 1.428571428571428571428571428571428571428571428571428571428571428571428571428564\n",
       " 1.414634146341463414634146341463414634146341463414634146341463414634146341463402\n",
       " 1.414215686274509803921568627450980392156862745098039215686274509803921568627451\n",
       " 1.414213562688869635045751357748145643583187168487563660953910525982122102237916\n",
       " 1.414213562373095285920609310001120157482019293261385662822929068797171892606328\n",
       " 1.414213562373095048801688750682407371716707675412549292484283177270654734324202\n",
       " 1.414213562373095048801688724209698078569674094695309735317437116756188103034736\n",
       " 1.414213562373095048801688724209698078569671875376948073176679737990753250208115\n",
       " 1.414213562373095048801688724209698078569671875376948073176679737990732478462102"
      ]
     },
     "execution_count": null,
     "metadata": {},
     "output_type": "execute_result"
    }
   ],
   "source": [
    "f(x) = x^2 - 2\n",
    "xs = [big(2.0), big(1.5)]\n",
    "for i = 2:10\n",
    "   xn,xn_1 = xs[end], xs[end-1]\n",
    "   m = (f(xn) - f(xn_1)) / (xn - xn_1)\n",
    "   push!(xs, xn - f(xn)/m)\n",
    "end\n",
    "ds = xs - sqrt(big(2.0))\n",
    "xs"
   ]
  },
  {
   "cell_type": "markdown",
   "metadata": {},
   "source": [
    "<p>They converge, but not quadratically:</p>"
   ]
  },
  {
   "cell_type": "code",
   "execution_count": null,
   "metadata": {},
   "outputs": [
    {
     "data": {
      "text/plain": [
       "8-element Array{BigFloat,1}:\n",
       " 2.500000000000000000000000000000000000000000000000000000000000000000000000000086e-01\n",
       " 1.950979178498911456458107842405541759182669643072541756100959850280418559120653    \n",
       " 2.040200787271727529161984725442380559145291730408176287629967160506657212703455    \n",
       " 1.200684558418914896332264398381495703449906476105061203678921235186867967490099e+01\n",
       " 7.000168054622945963580799608013149059946224748925927153637876865100838785852851e+01\n",
       " 2.37800005203420490669436327313464130735542881042878825126261095056991231283699e+03 \n",
       " 4.708320000002654085338399644136482526840803059854322295258743220609596802109367e+05\n",
       " 3.166815962000000000039471763996370918095634333838127247967733757063981571846331e+09"
      ]
     },
     "execution_count": null,
     "metadata": {},
     "output_type": "execute_result"
    }
   ],
   "source": [
    "[ds[i+1]/ds[i]^2 for i in 1:8] ## not quadratic"
   ]
  },
  {
   "cell_type": "markdown",
   "metadata": {},
   "source": [
    "<p>But better than linear:</p>"
   ]
  },
  {
   "cell_type": "code",
   "execution_count": null,
   "metadata": {},
   "outputs": [
    {
     "data": {
      "text/plain": [
       "8-element Array{BigFloat,1}:\n",
       " 1.46446609406726237799577818947575480357582031155762981705830065502316880384481e-01 \n",
       " 1.673675536076871289138032216543719775515223213208719790923772177169335775822171e-01\n",
       " 2.92929299213821784579599478308348024396242376761640725738166748324328122319283e-02 \n",
       " 5.049886763384462002347225676245896385421779125999881125358964701788944473784793e-03\n",
       " 1.486766683473727022960423790742068360036531073817677542845954838449610906462601e-04\n",
       " 7.509119825194604675046145843168722042293315109201897991386116385463451264065067e-07\n",
       " 1.116431756173122802253168482165300643402750029712528712613756274530113206421218e-10\n",
       " 8.383419834692377018558310664313361614362101931607502228249222835580670336881344e-17"
      ]
     },
     "execution_count": null,
     "metadata": {},
     "output_type": "execute_result"
    }
   ],
   "source": [
    "[ds[i+1]/ds[i] for i in 1:8]"
   ]
  },
  {
   "cell_type": "markdown",
   "metadata": {
    "internals": {
     "slide_type": "subslide"
    },
    "slide_helper": "slide_end",
    "slideshow": {
     "slide_type": "subslide"
    }
   },
   "source": [
    "<h3>Not all sequences converge</h3>"
   ]
  },
  {
   "cell_type": "markdown",
   "metadata": {},
   "source": [
    "<p>Not all sequences converge. Just take $x_n = \\sin(n)$. to see. However, some things are known about them.</p>"
   ]
  },
  {
   "cell_type": "markdown",
   "metadata": {
    "internals": {
     "slide_type": "subslide"
    },
    "slide_helper": "slide_end",
    "slideshow": {
     "slide_type": "subslide"
    }
   },
   "source": [
    "<h3>Monotonicity</h3>"
   ]
  },
  {
   "cell_type": "markdown",
   "metadata": {},
   "source": [
    "<p>Suppose $x_0 \\leq x_1 \\leq x_2 \\leq \\cdots \\leq x_n \\leq \\cdot \\leq M$.</p>"
   ]
  },
  {
   "cell_type": "markdown",
   "metadata": {},
   "source": [
    "<blockquote>\n",
    "<p>Then it is true that this sequence will have a limit.</p>\n",
    "</blockquote>"
   ]
  },
  {
   "cell_type": "markdown",
   "metadata": {
    "internals": {
     "slide_type": "subslide"
    },
    "slide_helper": "slide_end",
    "slideshow": {
     "slide_type": "subslide"
    }
   },
   "source": [
    "<h3>Upper bounds</h3>"
   ]
  },
  {
   "cell_type": "markdown",
   "metadata": {},
   "source": [
    "<blockquote>\n",
    "<p>For any non-empty set of real numbers (such as the sequence of $x_n$) with an upper bound, there is a <em>least</em> upper bound. That is a smallest number with $x_n \\leq M$ for any $M$.</p>\n",
    "</blockquote>"
   ]
  },
  {
   "cell_type": "markdown",
   "metadata": {
    "internals": {
     "slide_type": "subslide"
    },
    "slide_helper": "slide_end",
    "slideshow": {
     "slide_type": "subslide"
    }
   },
   "source": [
    "<h3>Can't jump over a line...</h3>"
   ]
  },
  {
   "cell_type": "markdown",
   "metadata": {},
   "source": [
    "<blockquote>\n",
    "<p>Suppose $x_0, x_1, \\dots \\leq 0$. If $\\lim_n x_n = L$, then $L \\leq 0$.</p>\n",
    "</blockquote>"
   ]
  },
  {
   "cell_type": "markdown",
   "metadata": {
    "internals": {
     "slide_type": "subslide"
    },
    "slide_helper": "slide_end",
    "slideshow": {
     "slide_type": "subslide"
    }
   },
   "source": [
    "<h3>Bounded</h3>"
   ]
  },
  {
   "cell_type": "markdown",
   "metadata": {},
   "source": [
    "<blockquote>\n",
    "<p>Suppose $|a_{n+1}| \\leq c |a_n|$. Then if $c < 1$, $\\lim a_n = 0$.</p>\n",
    "</blockquote>"
   ]
  }
 ],
 "metadata": {
  "kernelspec": {
   "display_name": "Julia 0.6.0",
   "language": "julia",
   "name": "julia-0.6"
  },
  "language_info": {
   "file_extension": ".jl",
   "mimetype": "application/julia",
   "name": "julia",
   "version": "0.6.0"
  }
 },
 "nbformat": 4,
 "nbformat_minor": 2
}
