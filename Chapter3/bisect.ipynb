{
  "cells": [
     {"outputs":[{"output_type":"execute_result","data":{"text/plain":["midpoint (generic function with 1 method)"]},"metadata":{},"execution_count":null}],"cell_type":"code","source":["midpoint(a,b, f) = (a+b)/2"],"metadata":{},"execution_count":null},
{"outputs":[{"output_type":"execute_result","data":{"text/plain":["alldone (generic function with 1 method)"]},"metadata":{},"execution_count":null}],"cell_type":"code","source":["function alldone(a, b, c, fc, n, delta, epsilon, MAXITER)\n    n > MAXITER && throw(DomainError())\n    norm(b - a) <= b * delta && return true\n    norm(fc) <= epsilon * c && return true\n    false\nend"],"metadata":{},"execution_count":null},
{"outputs":[{"output_type":"execute_result","data":{"text/plain":["bisect (generic function with 1 method)"]},"metadata":{},"execution_count":null}],"cell_type":"code","source":["function bisect(f, a, b; delta=eps(), epsilon=eps(), MAXITER=100, verbose=false)\n\n\n    \n    fa, fb = f(a), f(b)\n    sign(fa)*sign(fb) >= 0 && throw(DomainError())\n    \n    fncalls = 2\n    nsteps = 0\n\n    \n    c = midpoint(a, b, f)\n    fc = f(c)\n    \n    while !alldone(a, b, c, fc, nsteps, delta, epsilon, MAXITER)\n\n        iszero(fc) && return (c, nsteps, fncalls)\n        if sign(fc) * sign(fa) < 0.0\n            b, fb = c, fc\n        else\n            a, fa = c, fc\n        end\n\n        c = midpoint(a, b, f)\n        fc = f(c)\n        fncalls += 1\n        nsteps += 1\n        verbose && println(c)\n    end\n\n    (c, nsteps, fncalls)\nend"],"metadata":{},"execution_count":null},
{"outputs":[{"output_type":"execute_result","data":{"text/plain":["true"]},"metadata":{},"execution_count":null}],"cell_type":"code","source":["bisect(sin, 3, 4)[1] ≈ pi"],"metadata":{},"execution_count":null},
{"outputs":[{"output_type":"execute_result","data":{"text/plain":["true"]},"metadata":{},"execution_count":null}],"cell_type":"code","source":["bisect(log, 1/10, 10^6)[1] ≈ 1"],"metadata":{},"execution_count":null},
{"outputs":[{"output_type":"execute_result","data":{"text/plain":["DomainError()\n"]},"metadata":{},"execution_count":null}],"cell_type":"code","source":["bisect(log, .1, 10^20, delta=1e-16, epsilon=0) # error"],"metadata":{},"execution_count":null},
{"cell_type":"markdown","source":"<p>better</p>","metadata":{}},
{"outputs":[{"output_type":"execute_result","data":{"text/plain":["midpoint (generic function with 1 method)"]},"metadata":{},"execution_count":null}],"cell_type":"code","source":["midpoint(a, b, f) = a + (b-a)/2"],"metadata":{},"execution_count":null},
{"outputs":[{"output_type":"execute_result","data":{"text/plain":["false"]},"metadata":{},"execution_count":null}],"cell_type":"code","source":["bisect(log, .1, 10^20)[1] ≈ 1"],"metadata":{},"execution_count":null},
{"outputs":[{"output_type":"execute_result","data":{"text/plain":["(3.141592653589793, 47, 49)"]},"metadata":{},"execution_count":null}],"cell_type":"code","source":["bisect(sin, 3, 4)"],"metadata":{},"execution_count":null},
{"cell_type":"markdown","source":"<p>We might try a stopping rule that assumes floating point numbers are being used–as they are. This one would stop when the interval <code>&#91;a,b&#93;</code> can't be subdivided (an impossibility mathematically, but should be the case over the machine numbers):</p>","metadata":{}},
{"outputs":[{"output_type":"execute_result","data":{"text/plain":["alldone (generic function with 1 method)"]},"metadata":{},"execution_count":null}],"cell_type":"code","source":["function alldone(a, b, c, fc, n, delta, epsilon, MAXITER)\n   a < c < b && return false\n   true\nend"],"metadata":{},"execution_count":null},
{"outputs":[{"output_type":"execute_result","data":{"text/plain":["(3.141592653589793, 51, 53)"]},"metadata":{},"execution_count":null}],"cell_type":"code","source":["x, n, fncalls = bisect(sin, 3, 4)"],"metadata":{},"execution_count":null},
{"outputs":[{"output_type":"execute_result","data":{"text/plain":["(1.0, 53, 55)"]},"metadata":{},"execution_count":null}],"cell_type":"code","source":["x, n, fncalls = bisect(x -> x^20 - 1, 0, pi)"],"metadata":{},"execution_count":null},
{"cell_type":"markdown","source":"<p>Regula falsi can be much faster</p>","metadata":{}},
{"cell_type":"markdown","source":"<p>Here the \"midpoint\" comes from the intersection point of the secant line between <code>&#40;a, f&#40;a&#41;&#41;</code> and <code>&#40;b,f&#40;b&#41;&#41;</code>.</p>","metadata":{}},
{"outputs":[{"output_type":"execute_result","data":{"text/plain":["midpoint (generic function with 1 method)"]},"metadata":{},"execution_count":null}],"cell_type":"code","source":["function midpoint(a, b, f)\n    # c = a - f(a) / (f(b)-f(a)/(b-a))\n    c = (a * f(b) - f(a) * b)/(f(b) - f(a))  # simplified\n    c\nend"],"metadata":{},"execution_count":null},
{"outputs":[{"output_type":"execute_result","data":{"text/plain":["(3.141592653589793, 4, 6)"]},"metadata":{},"execution_count":null}],"cell_type":"code","source":["x, n, fncalls = bisect(sin, 3, 4)"],"metadata":{},"execution_count":null},
{"cell_type":"markdown","source":"<p>But this method can have issues not <em>always</em> here:</p>","metadata":{}},
{"outputs":[{"output_type":"execute_result","data":{"text/plain":["(0.9999999999956345, 1935384, 1935386)"]},"metadata":{},"execution_count":null}],"cell_type":"code","source":["f(x) = x^20 - 1 # f(1) = 0\nx, n, fncalls = bisect(f, 0, 2)  # moves too slow, note number of steps"],"metadata":{},"execution_count":null}
    ],
 "metadata": {
  "language_info": {
   "file_extension": ".jl",                                                                                                             
   "mimetype": "application/julia", 
   "name": "julia",
   "version": "0.6"
  },
 "kernelspec": {
   "display_name": "Julia 0.6.0",
   "language": "julia",
   "name": "julia-0.6"
  }

 },
 "nbformat": 4,
 "nbformat_minor": 2

}
