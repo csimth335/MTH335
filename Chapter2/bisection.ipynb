{
  "cells": [
     {"cell_type":"markdown","source":"<h2>Bisection in floating point</h2>","metadata":{"internals":{"slide_type":"subslide","slide_helper":"subslide_end"},"slideshow":{"slide_type":"slide"},"slide_helper":"slide_end"}},
{"cell_type":"markdown","source":"<p>Mathematically, we have an easy way to find the middle of two numbers, say $0 < a < b$:</p>","metadata":{}},
{"cell_type":"markdown","source":"\n$$\nc = (a + b)/2\n$$\n","metadata":{}},
{"cell_type":"markdown","source":"<p>Well, we can have issues with this if we try to put it on the computer.</p>","metadata":{}},
{"cell_type":"markdown","source":"<p>In particular, out at the edge, we can overflow by adding two large numbers:</p>","metadata":{}},
{"outputs":[{"output_type":"execute_result","data":{"text/plain":["Inf"]},"metadata":{},"execution_count":null}],"cell_type":"code","source":["b = prevfloat(Inf)\na = b/2\n(a + b)/2"],"metadata":{},"execution_count":null},
{"cell_type":"markdown","source":"<p>This can be avoided by finding a difference and adding:</p>","metadata":{}},
{"outputs":[{"output_type":"execute_result","data":{"text/plain":["1.3482698511467367e308"]},"metadata":{},"execution_count":null}],"cell_type":"code","source":["a + (b-a)/2"],"metadata":{},"execution_count":null},
{"cell_type":"markdown","source":"<p>In general this is a good practice as adding can lose precision.</p>","metadata":{}},
{"cell_type":"markdown","source":"<p>So, we can control for really big values by using mathematics. What about other areas?</p>","metadata":{}},
{"cell_type":"markdown","source":"<p>When $a < b$ are real–mathematical–numbers, there is always a number between $a$ and $b$. This is not so in floating point which is discrete:</p>","metadata":{}},
{"outputs":[{"output_type":"execute_result","data":{"text/plain":["0.09999999999999998"]},"metadata":{},"execution_count":null}],"cell_type":"code","source":["a = 0.09999999999999998405\nb = 0.09999999999999999\n(a + b)/2   ## less than the real number 0.09999999999999998405"],"metadata":{},"execution_count":null},
{"cell_type":"markdown","source":"<p>It would require proof that the result of <code>c &#61; fl&#40;&#40;a&#43;b&#41;/2&#41;</code> satisfies <code>a &lt;&#61; c &lt;&#61; b</code> for machine numbers <code>a</code> and <code>b</code>. (Which may not be true with some rounding schemes)</p>","metadata":{}},
{"cell_type":"markdown","source":"<p>If this were the case, we can stop if <code>a &#61;&#61; c</code>  or <code>b &#61;&#61; c</code>.</p>","metadata":{}},
{"cell_type":"markdown","source":"<h2>Floating point bisection</h2>","metadata":{"internals":{"slide_type":"subslide","slide_helper":"subslide_end"},"slideshow":{"slide_type":"slide"},"slide_helper":"slide_end"}},
{"cell_type":"markdown","source":"<p>Rather than bisect in floating point, there is a trick to bisect over integers.</p>","metadata":{}},
{"cell_type":"markdown","source":"<p>The floating point numbers are discrete and ordered, so there is a way to reinterpret them using <em>unsigned</em> integers:</p>","metadata":{}},
{"outputs":[{"output_type":"execute_result","data":{"text/latex":["0010111001100110"]},"metadata":{},"execution_count":null}],"cell_type":"code","source":["a = Float16(0.1)\nbits(a)"],"metadata":{},"execution_count":null},
{"outputs":[{"output_type":"execute_result","data":{"text/latex":["0010111001100110"]},"metadata":{},"execution_count":null}],"cell_type":"code","source":["reinterpret(UInt16, a) |> bits"],"metadata":{},"execution_count":null},
{"cell_type":"markdown","source":"<p>Reinterpretation is cost free, basically, as the memory is just reinterpreted. Here we see the same bit pattern. But because of how these numbers are stored we have:</p>","metadata":{}},
{"cell_type":"markdown","source":"<ul>\n<li><p>If <code>0 &lt; a &lt;  b</code> in floating point then <code>a &lt; b</code> as unsigned integers.</p>\n</li>\n</ul>","metadata":{}},
{"cell_type":"markdown","source":"<p>Now division by <code>2</code> in unsigned integers is just a bit shift down:</p>","metadata":{}},
{"outputs":[{"output_type":"execute_result","data":{"text/latex":["0000000000001110"]},"metadata":{},"execution_count":null}],"cell_type":"code","source":["UInt16(14) |> bits"],"metadata":{},"execution_count":null},
{"cell_type":"markdown","source":"<p>Compared to</p>","metadata":{}},
{"outputs":[{"output_type":"execute_result","data":{"text/latex":["0000000000000111"]},"metadata":{},"execution_count":null}],"cell_type":"code","source":["UInt16(7) |> bits"],"metadata":{},"execution_count":null},
{"cell_type":"markdown","source":"<p>Division than can be fast using the <code>&gt;&gt;</code> shift operation:</p>","metadata":{}},
{"outputs":[{"output_type":"execute_result","data":{"text/latex":["0000000000000111"]},"metadata":{},"execution_count":null}],"cell_type":"code","source":["UInt16(14) >> 1 |> bits"],"metadata":{},"execution_count":null},
{"cell_type":"markdown","source":"<p>For odd numbers it will be truncated or rounded down (7 goes to 3).</p>","metadata":{}},
{"cell_type":"markdown","source":"<p>Returning to the problem, it is clear for integers that <code>a &lt;&#61; &#40;a&#43;b&#41;/2 &#61; a &#43;&#40;b-a&#41;/2 &lt;&#61; b</code> and equal to an endpoint only when the difference between a and b is at the last bit (<code>a-b &#61; 00000000....0001</code>).</p>","metadata":{}},
{"cell_type":"markdown","source":"<p>So a terminating bisection algorithm that will terminate in a number of steps bounded by the storage size (16 for 16 bits) we be defined with the \"midpoint\" as follows:</p>","metadata":{}},
{"outputs":[{"output_type":"execute_result","data":{"text/plain":["_middle (generic function with 1 method)"]},"metadata":{},"execution_count":null}],"cell_type":"code","source":["# from Jason Merrill; Roots.jl\n_pairs = Dict(Float64 => UInt64, Float32 => UInt32, Float16 => UInt16)\n\n\nfunction _middle(x::T, y::T) where {T <: Union{Float64, Float32, Float16}}\n    # Use the usual float rules for combining non-finite numbers\n    if !isfinite(x) || !isfinite(y)\n        return x + y\n    end\n    \n    # Always return 0.0 when inputs have opposite sign\n    if sign(x) != sign(y) && !iszero(x) && ! iszero(y)\n        return 0.0\n    end\n    \n    negate = x < 0.0 || y < 0.0\n\n    # do division over unsigned integers with bit shift\n    xint = reinterpret(_pairs[T], abs(x))\n    yint = reinterpret(_pairs[T], abs(y))\n    mid = (xint + yint) >> 1\n\n\t# reinterpret in original floating point\n    unsigned = reinterpret(T, mid)\n    val =  negate ? -unsigned : unsigned\n\n    (val, bits(xint), bits(yint), bits(mid))\n    \nend"],"metadata":{},"execution_count":null},
{"cell_type":"markdown","source":"<p>We can see the algorithm in action:</p>","metadata":{}},
{"outputs":[{"output_type":"execute_result","data":{"text/plain":["(\"0100000100000000\", \"0101011001001000\")"]},"metadata":{},"execution_count":null}],"cell_type":"code","source":["a, b = Float16(2.5), Float16(100.5)\nai, bi = reinterpret(UInt16, a), reinterpret(UInt16, b)\nbits(ai), bits(bi)"],"metadata":{},"execution_count":null},
{"cell_type":"markdown","source":"<p>And the sum</p>","metadata":{}},
{"outputs":[{"output_type":"execute_result","data":{"text/latex":["1001011101001000"]},"metadata":{},"execution_count":null}],"cell_type":"code","source":["bits(ai + bi)"],"metadata":{},"execution_count":null},
{"cell_type":"markdown","source":"<p>And the \"middle\":</p>","metadata":{}},
{"outputs":[{"output_type":"execute_result","data":{"text/latex":["0100101110100100"]},"metadata":{},"execution_count":null}],"cell_type":"code","source":["bits((ai + bi) >> 1)"],"metadata":{},"execution_count":null},
{"cell_type":"markdown","source":"<p>And as a floating point number:</p>","metadata":{}},
{"outputs":[{"output_type":"execute_result","data":{"text/plain":["Float16(15.28)"]},"metadata":{},"execution_count":null}],"cell_type":"code","source":["reinterpret(Float16, (ai + bi) >> 1)"],"metadata":{},"execution_count":null},
{"cell_type":"markdown","source":"<p>We can see by looking the bits from left to right that the value is in the middle:</p>","metadata":{}},
{"outputs":[{"output_type":"execute_result","data":{"text/plain":["3-element Array{String,1}:\n \"0100000100000000\"\n \"0100101110100100\"\n \"0101011001001000\""]},"metadata":{},"execution_count":null}],"cell_type":"code","source":["[bits(ai), bits((ai+bi) >> 1), bits(bi)]"],"metadata":{},"execution_count":null},
{"cell_type":"markdown","source":"<p>This begs the question of looking at what <code>&#40;b-a&#41;/2</code> is:</p>","metadata":{}},
{"outputs":[{"output_type":"execute_result","data":{"text/plain":["4-element Array{String,1}:\n \"0100000100000000\"\n \"0001010101001000\"\n \"0000101010100100\"\n \"0101011001001000\""]},"metadata":{},"execution_count":null}],"cell_type":"code","source":["[bits(ai), bits(bi - ai), bits((bi - ai) >> 1), bits(bi)]"],"metadata":{},"execution_count":null}
    ],
 "metadata": {
  "language_info": {
   "file_extension": ".jl",                                                                                                             
   "mimetype": "application/julia", 
   "name": "julia",
   "version": "0.6"
  },
 "kernelspec": {
   "display_name": "Julia 0.6.0",
   "language": "julia",
   "name": "julia-0.6"
  }

 },
 "nbformat": 4,
 "nbformat_minor": 2

}
