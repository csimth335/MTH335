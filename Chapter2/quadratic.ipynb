{
  "cells": [
     {"cell_type":"markdown","source":"<p>In a paper of Kahan (https://people.eecs.berkeley.edu/~wkahan/Qdrtcs.pdf) the issue of computing the quadratic equation arises.</p>","metadata":{}},
{"cell_type":"markdown","source":"<p>Kahan write as $ax^2 + 2bx + c$ so the critical computation is the discriminant $b^2 - a \\cdot c$. The issue comes from large enough values that the subtraction masks the low bits influence.</p>","metadata":{}},
{"cell_type":"markdown","source":"<p>Here is an example in the paper, which should be 1.0 – not 2.0</p>","metadata":{}},
{"outputs":[{"output_type":"execute_result","data":{"text/plain":["2.0"]},"metadata":{},"execution_count":null}],"cell_type":"code","source":["a,b,c = 94906266.375, 94906267.375, 94906268.375\nb^2 - a * c"],"metadata":{},"execution_count":null},
{"cell_type":"markdown","source":"<p>Dekker shows a way to split numbers into a high and low part:</p>","metadata":{}},
{"outputs":[{"output_type":"execute_result","data":{"text/plain":["dekker_break (generic function with 1 method)"]},"metadata":{},"execution_count":null}],"cell_type":"code","source":["function dekker_break(x)\n    bigx = x * 134217729.0  # 2^27-1\n    y = x - bigx\n    xh = y + bigx\n    xl = x - xh\n    xh, xl\nend"],"metadata":{},"execution_count":null},
{"cell_type":"markdown","source":"<p>We have</p>","metadata":{}},
{"outputs":[{"output_type":"execute_result","data":{"text/plain":["(9.4906266e7, 0.375)"]},"metadata":{},"execution_count":null}],"cell_type":"code","source":["dekker_break(a)"],"metadata":{},"execution_count":null},
{"cell_type":"markdown","source":"<p>Then we can compute <code>b^2</code> with:</p>","metadata":{}},
{"outputs":[{"output_type":"execute_result","data":{"text/plain":["(9.00719958705499e15, -0.609375)"]},"metadata":{},"execution_count":null}],"cell_type":"code","source":["bh, bl = dekker_break(b)\np = b*b\ndp = ((bh * bh - p) + 2bh * bl) + bl * bl\np, dp"],"metadata":{},"execution_count":null},
{"cell_type":"markdown","source":"<p>And <code>a*c</code> is similar:</p>","metadata":{}},
{"outputs":[{"output_type":"execute_result","data":{"text/plain":["(9.007199587054988e15, 0.390625)"]},"metadata":{},"execution_count":null}],"cell_type":"code","source":["ah,al = dekker_break(a)\nch,cl = dekker_break(c)\nq = a*c; dq = ((ah*ch - q) + (ah*cl + al*ch)) + al*cl\nq, dq"],"metadata":{},"execution_count":null},
{"cell_type":"markdown","source":"<p>Here <code>p-q</code> gives the simple answer, the correction <code>dp-dq</code> carries the bits that were lost:</p>","metadata":{}},
{"outputs":[{"output_type":"execute_result","data":{"text/plain":["(2.0, -1.0)"]},"metadata":{},"execution_count":null}],"cell_type":"code","source":["p-q, dp - dq"],"metadata":{},"execution_count":null},
{"cell_type":"markdown","source":"<p>And then</p>","metadata":{}},
{"outputs":[{"output_type":"execute_result","data":{"text/plain":["1.0"]},"metadata":{},"execution_count":null}],"cell_type":"code","source":["(p-q) + (dp - dq)"],"metadata":{},"execution_count":null},
{"cell_type":"markdown","source":"<p>Note, we can check using BigFloats which have more precision:</p>","metadata":{}},
{"outputs":[{"output_type":"execute_result","data":{"text/plain":["1.000000000000000000000000000000000000000000000000000000000000000000000000000000"]},"metadata":{},"execution_count":null}],"cell_type":"code","source":["big(b)^2 - big(a) * big(c)"],"metadata":{},"execution_count":null},
{"cell_type":"markdown","source":"<p>With this, the quadratic equation can be solved with:</p>","metadata":{}},
{"outputs":[{"output_type":"execute_result","data":{"text/plain":["qdrt (generic function with 1 method)"]},"metadata":{},"execution_count":null}],"cell_type":"code","source":["function discr(a, b, c)\n    ah, al = dekker_break(a)  \n    bh, bl = dekker_break(b)  \n    ch, cl = dekker_break(c)  \n    p = b*b\n    dp = ((bh * bh - p) + 2bh * bl) + bl * bl\n    q = a*c\n\tdq = ((ah*ch - q) + (ah*cl + al*ch)) + al*cl\n    (p-q) + (dp - dq)\nend\n\n## Solve ax^2 + bx + c;  complex values not covered below\nfunction qdrt(a, b, c)\n#  b = -b\n  d = discr(a,b,c)\n  r = sqrt(d) * (sign(b) + iszero(b)) + b\n  r/a, c/r\nend"],"metadata":{},"execution_count":null},
{"cell_type":"markdown","source":"<p>Trying it out we have:</p>","metadata":{}},
{"outputs":[{"output_type":"execute_result","data":{"text/plain":["(-1.0, -1.0)"]},"metadata":{},"execution_count":null}],"cell_type":"code","source":["a, b, c = 1, -1, 1 # x^2 - 2x + 1 -> (x-1)^2\nqdrt(a, b, c)"],"metadata":{},"execution_count":null},
{"cell_type":"markdown","source":"<p>And</p>","metadata":{}},
{"outputs":[{"output_type":"execute_result","data":{"text/plain":["(1.0000000210734241, 1.0)"]},"metadata":{},"execution_count":null}],"cell_type":"code","source":["a,b,c = 94906266.375, 94906267.375, 94906268.375\nqdrt(a, b, c)"],"metadata":{},"execution_count":null},
{"cell_type":"markdown","source":"<p>Which is correct, but other methods (this one using a linear algebra techique, not the straightforward discriminant calculution) can be wrong:</p>","metadata":{}},
{"outputs":[{"output_type":"execute_result","data":{"text/plain":["(1.000000010536712, 1.000000010536712)"]},"metadata":{},"execution_count":null}],"cell_type":"code","source":["using Polynomials\nx = variable()\nr1, r2 = roots(a*x^2 - 2b*x + c)\nr1, r2"],"metadata":{},"execution_count":null}
    ],
 "metadata": {
  "language_info": {
   "file_extension": ".jl",                                                                                                             
   "mimetype": "application/julia", 
   "name": "julia",
   "version": "0.6"
  },
 "kernelspec": {
   "display_name": "Julia 0.6.0",
   "language": "julia",
   "name": "julia-0.6"
  }

 },
 "nbformat": 4,
 "nbformat_minor": 2

}
